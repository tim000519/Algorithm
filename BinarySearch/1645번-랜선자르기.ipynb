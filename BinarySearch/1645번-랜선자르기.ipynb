{
 "cells": [
  {
   "cell_type": "code",
   "execution_count": 63,
   "metadata": {},
   "outputs": [
    {
     "name": "stdout",
     "output_type": "stream",
     "text": [
      "200\n"
     ]
    }
   ],
   "source": [
    "K, N = map(int, input().split())\n",
    "ls = []\n",
    "for i in range(K):\n",
    "    ls.append(int(input()))\n",
    "def calc(x):\n",
    "    n = 0\n",
    "    for i in range(K):\n",
    "        n += ls[i]//x\n",
    "    return n\n",
    "x = max(ls)\n",
    "upper = x\n",
    "lower = 1\n",
    "\n",
    "\n",
    "\n",
    "while lower <= upper :\n",
    "    \n",
    "\n",
    "    mid = (upper + lower) // 2\n",
    "    t = calc(mid)\n",
    "\n",
    "    if t < N:\n",
    "        upper = mid-1\n",
    "    else:\n",
    "        lower = mid+1\n",
    "        \n",
    "print(upper)"
   ]
  }
 ],
 "metadata": {
  "kernelspec": {
   "display_name": "KW",
   "language": "python",
   "name": "python3"
  },
  "language_info": {
   "codemirror_mode": {
    "name": "ipython",
    "version": 3
   },
   "file_extension": ".py",
   "mimetype": "text/x-python",
   "name": "python",
   "nbconvert_exporter": "python",
   "pygments_lexer": "ipython3",
   "version": "3.11.4"
  }
 },
 "nbformat": 4,
 "nbformat_minor": 2
}
