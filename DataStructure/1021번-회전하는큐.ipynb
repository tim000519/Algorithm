{
 "cells": [
  {
   "cell_type": "code",
   "execution_count": null,
   "metadata": {},
   "outputs": [],
   "source": [
    "from collections import deque\n",
    "\n",
    "n,m = map(int, input().split())\n",
    "\n",
    "queue = deque()\n",
    "obj = deque()\n",
    "\n",
    "for i in range(n):\n",
    "    queue.append(i+1)\n",
    "\n",
    "\n",
    "length = len(queue)\n",
    "obj = input().split()\n",
    "count = 0\n",
    "def right():\n",
    "    a = queue.popleft()\n",
    "    queue.append(a)\n",
    "def left():\n",
    "    a = queue.pop()\n",
    "    queue.appendleft(a)\n",
    "    \n",
    "def calculator(x):\n",
    "    global count\n",
    "    while True:\n",
    "        idx = queue.index(x)\n",
    "        if idx == 0:\n",
    "            queue.popleft()\n",
    "            break\n",
    "        if idx < len(queue)/2:\n",
    "            right()\n",
    "            count += 1\n",
    "        else:\n",
    "            left()\n",
    "            count += 1\n",
    "for i in range(m):\n",
    "    x = int(obj[i])\n",
    "    calculator(x)\n",
    "print(count)"
   ]
  }
 ],
 "metadata": {
  "language_info": {
   "name": "python"
  }
 },
 "nbformat": 4,
 "nbformat_minor": 2
}
