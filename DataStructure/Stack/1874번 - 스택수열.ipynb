{
 "cells": [
  {
   "cell_type": "code",
   "execution_count": 56,
   "metadata": {},
   "outputs": [],
   "source": [
    "from collections import deque\n",
    "N = int(input())\n",
    "ls = []\n",
    "\n",
    "for i in range(N):\n",
    "    ls.append(int(input()))\n",
    "\n",
    "\n",
    "cur = 0\n",
    "stack = deque()\n",
    "isPos = True\n",
    "ans = []\n",
    "\n",
    "\n",
    "for i in range(N):\n",
    "    for x in range(cur, ls[i]):\n",
    "        stack.append(x + 1)\n",
    "        ans.append('+')\n",
    "    cur = max((ls[i]), cur)\n",
    "    if(len(stack) == 0):\n",
    "        isPos = False\n",
    "        break\n",
    "    a = stack.pop()\n",
    "    ans.append('-')\n",
    "    if(ls[i] != a):\n",
    "        isPos = False\n",
    "        break\n",
    "if isPos:\n",
    "    print(*ans, sep='\\n')\n",
    "else:\n",
    "    print('NO')"
   ]
  },
  {
   "cell_type": "code",
   "execution_count": null,
   "metadata": {},
   "outputs": [],
   "source": []
  }
 ],
 "metadata": {
  "kernelspec": {
   "display_name": "KW",
   "language": "python",
   "name": "python3"
  },
  "language_info": {
   "codemirror_mode": {
    "name": "ipython",
    "version": 3
   },
   "file_extension": ".py",
   "mimetype": "text/x-python",
   "name": "python",
   "nbconvert_exporter": "python",
   "pygments_lexer": "ipython3",
   "version": "3.11.4"
  }
 },
 "nbformat": 4,
 "nbformat_minor": 2
}
